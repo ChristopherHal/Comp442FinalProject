{
 "cells": [
  {
   "cell_type": "code",
   "execution_count": 22,
   "id": "643d966d-7a8d-4e6e-bd08-c8989843f114",
   "metadata": {},
   "outputs": [],
   "source": [
    "import Simulator.ResSim as sim"
   ]
  },
  {
   "cell_type": "code",
   "execution_count": null,
   "id": "ab0b58e8-0a0a-4dc3-9a53-7961d53dffc7",
   "metadata": {},
   "outputs": [],
   "source": [
    "new_sim = sim()"
   ]
  }
 ],
 "metadata": {
  "kernelspec": {
   "display_name": "Python 3 (ipykernel)",
   "language": "python",
   "name": "python3"
  },
  "language_info": {
   "codemirror_mode": {
    "name": "ipython",
    "version": 3
   },
   "file_extension": ".py",
   "mimetype": "text/x-python",
   "name": "python",
   "nbconvert_exporter": "python",
   "pygments_lexer": "ipython3",
   "version": "3.9.12"
  }
 },
 "nbformat": 4,
 "nbformat_minor": 5
}
